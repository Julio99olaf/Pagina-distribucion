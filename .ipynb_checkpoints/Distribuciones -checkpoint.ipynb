{
 "cells": [
  {
   "cell_type": "markdown",
   "metadata": {},
   "source": [
    "### Link repositorio \n",
    "> **Hint**: Explore the command `Repositorio` [link](https://github.com/Julio99olaf/Pagina-distribucion)"
   ]
  },
  {
   "cell_type": "markdown",
   "metadata": {},
   "source": [
    "# Distribución Binomial"
   ]
  },
  {
   "cell_type": "markdown",
   "metadata": {},
   "source": [
    "- Una distribución binomial es una distribución de probabilidad discreta que describe el número de éxitos al realizar n experimentos independientes entre sí, acerca de una variable aleatoria.\n",
    "- Tiene probabilidad `fija` p de ocurrencia del éxito entre los ensayos. A lo que se denomina «éxito», tiene una probabilidad de ocurrencia p y al otro, «fracaso», tiene una probabilidad q = 1 - p. En la distribución binomial el anterior experimento se repite n veces, de forma independiente, y se designa por $X$ a la variable que mide el número de éxitos que se han producido en los n experimentos. \n",
    "- Cuando se dan estas circunstancias, se dice que la variable $X$ sigue una distribución de probabilidad binomial, y se denota $X\\sim B(n,p)$.}\n",
    "- El resultado obtenido en cada experimento es independiente del anterior. Por lo tanto, lo que ocurra en cada experimento no afecta a los siguientes.\n",
    "- Los sucesos son mutuamente excluyentes, es decir, no pueden ocurrir los 2 al mismo tiempo. No se puede ser hombre y mujer al mismo tiempo o que al lanzar una moneda salga cara y cruz al mismo tiempo.\n",
    "- Los sucesos son colectivamente exhaustivos, es decir, al menos uno de los 2 ha de ocurrir. Si no se es hombre, se es mujer y, si se lanza una moneda, si no sale cara ha de salir cruz."
   ]
  },
  {
   "cell_type": "markdown",
   "metadata": {},
   "source": [
    "### Variable aleatoria binomial"
   ]
  },
  {
   "cell_type": "markdown",
   "metadata": {},
   "source": [
    "La variable aleatoria binomial {X}, expresa el número de éxitos obtenidos en cada prueba del experimento.\n",
    "\n",
    " \n",
    "\n",
    "La variable binomial es una variable aleatoria discreta, sólo puede tomar los valores $k=0, 1, 2, 3, \\dots , n$ suponiendo que se han realizado $n$ pruebas.\n",
    "\n",
    " "
   ]
  },
  {
   "cell_type": "markdown",
   "metadata": {},
   "source": [
    "### Formula de probabilidad de la distribución binomial"
   ]
  },
  {
   "cell_type": "markdown",
   "metadata": {},
   "source": [
    "$$P(x)={n \\choose x}(p)^{x}(q)^{n-x} $$"
   ]
  },
  {
   "cell_type": "markdown",
   "metadata": {},
   "source": [
    "Donde:\n",
    "\n",
    "n    = Número de ensayos/experimentos\n",
    "\n",
    "x    = Número de éxitos\n",
    "\n",
    "p    = Probabilidad de éxito\n",
    "\n",
    "q    = Probabilidad de fracaso (1-p)"
   ]
  },
  {
   "cell_type": "markdown",
   "metadata": {},
   "source": [
    "**La expresión entre corchetes no es una expresión matricial, sino que es un resultado de una combinatoria sin repetición. Este se obtiene con la siguiente formula:**"
   ]
  },
  {
   "cell_type": "markdown",
   "metadata": {},
   "source": [
    "$$\\\\C_{n,x}={n \\choose i}= \\frac{n!}{x!(n-x)!}$$"
   ]
  },
  {
   "cell_type": "markdown",
   "metadata": {},
   "source": [
    "\n",
    "### Ejemplo\n",
    "Supongamos que se lanza un dado (con 6 caras) 51 veces y queremos conocer la probabilidad de que el número 3 salga 20 veces. En este caso tenemos una $X \\sim B(51, 1/6)$ y la probabilidad sería $P(X=20)$:\n",
    "\n",
    "$$P(X=20)={51 \\choose 20}(1/6)^{20}(1-1/6)^{51-20} $$"
   ]
  },
  {
   "cell_type": "code",
   "execution_count": 9,
   "metadata": {},
   "outputs": [],
   "source": [
    "# Importamos librerías a trabajar en todas las simulaciones\n",
    "import matplotlib.pyplot as plt\n",
    "import numpy as np\n",
    "from itertools import cycle  # Librería para hacer ciclos\n",
    "import scipy.stats as st     # Librería estadística\n",
    "from math import factorial as fac # Importo la operación factorial\n",
    "\n",
    "%matplotlib inline"
   ]
  },
  {
   "cell_type": "code",
   "execution_count": 10,
   "metadata": {},
   "outputs": [
    {
     "name": "stdout",
     "output_type": "stream",
     "text": [
      "P(X=20)= 7.444834157690862e-05\n"
     ]
    }
   ],
   "source": [
    "n = 51; p=1/6; X=20\n",
    "print('P(X=20)=',st.binom(n,p).pmf(X))"
   ]
  },
  {
   "cell_type": "markdown",
   "metadata": {},
   "source": [
    "### Función de densidad de probabilidad"
   ]
  },
  {
   "cell_type": "markdown",
   "metadata": {},
   "source": [
    "La función de densidad esuna linea continua que representa la distribución de densidad de una muestra de datos."
   ]
  },
  {
   "cell_type": "markdown",
   "metadata": {},
   "source": [
    "**Srirve para:**\n",
    "- Tener una teoría de la distribución de una variable numérica en una población\n",
    "- Calcular la probabilidad de ocurrencia. El área debajo de la curva\n",
    "- Tener distribuciones de referencia cómo la distribución normal"
   ]
  },
  {
   "cell_type": "markdown",
   "metadata": {},
   "source": [
    "$X\\sim B(n,p)$ Parámetros: $n$ y $p$\n",
    "$$\\textbf{Función de densidad de probabilidad}\\\\p_i=P(X=i)={n \\choose i}p^i(1-p)^{n-i}= \\frac{n!}{i!(n-i)!}p^i(1-p)^{n-i},\\quad i=0,1,\\cdots,n$$\n",
    ">Recordar:$$p_{i+1}=\\frac{n-i}{i+1}\\frac{p}{1-p} p_i $$\n",
    "\n",
    "$$\\textbf{Función de distribución de probabilidad}\\\\F(x)=\\sum_{i=0}^{k-1}\\frac{n!}{i!(n-i)!}p^i(1-p)^{n-i}$$"
   ]
  },
  {
   "cell_type": "code",
   "execution_count": 11,
   "metadata": {},
   "outputs": [],
   "source": [
    "# Función que calcula la probabilidad acumulada optimizada\n",
    "def proba_binomial(n:'Cantidad de ensayos',p:'Probabilidad de los eventos',\n",
    "                   N:'Cantidad de puntos a graficar'):\n",
    "    Pr = np.zeros(N)\n",
    "    Pr[0] = (1-p)**n\n",
    "    def pr(i):\n",
    "        nonlocal Pr\n",
    "        c  = p/(1-p)\n",
    "        Pr[i+1]=(c*(n-i)/(i+1))*Pr[i]\n",
    "        \n",
    "    # Lleno el vector Pr usando compresión de listas\n",
    "    [pr(i) for i in range(N-1)]\n",
    "    return Pr"
   ]
  },
  {
   "cell_type": "code",
   "execution_count": 12,
   "metadata": {},
   "outputs": [
    {
     "name": "stdout",
     "output_type": "stream",
     "text": [
      "(3, 100)\n"
     ]
    },
    {
     "data": {
      "image/png": "[encoded data removed]",
      "text/plain": [
       "<Figure size 720x288 with 2 Axes>"
      ]
     },
     "metadata": {
      "needs_background": "light"
     },
     "output_type": "display_data"
    }
   ],
   "source": [
    "# Comprobación de función creada\n",
    "# Distintos parámetros para graficar la función binomial\n",
    "n = [50,100,150]\n",
    "# Parámetro p de la dristribución\n",
    "p = 0.5\n",
    "# Resultado usando método convencional\n",
    "P = list(map(lambda x,n: proba_binomial(n,p,100),range(len(n)),n))\n",
    "P = np.asmatrix(P)\n",
    "print(P.shape)\n",
    "\n",
    "def grafica_distribucion_prob(P:'Matriz de probabilidades binomiales'):\n",
    "    # Gráfica de densidad de probabilidad\n",
    "    fig,(ax1,ax2) = plt.subplots(1,2)\n",
    "    fig.set_figwidth(10)\n",
    "    ax1.plot(P.T,'o',markersize=3)\n",
    "    ax1.legend(['n=50','n=100','n=150'])\n",
    "    ax1.set_title('Densidad de probabilidad')\n",
    "    # ax1.show()\n",
    "\n",
    "    # Probabilidad acumulada\n",
    "    F = np.cumsum(P,axis=1)\n",
    "    # plt.figure(2)\n",
    "    ax2.plot(F.T,'o',markersize=3)\n",
    "    ax2.legend(['n=%d'%n[0],'n=%d'%n[1],'n=%d'%n[2]])\n",
    "    ax2.set_title('Distribución acumulada')\n",
    "\n",
    "    plt.show()\n",
    "    \n",
    "# Gráfica del método convencional y vectorizado\n",
    "grafica_distribucion_prob(P)"
   ]
  },
  {
   "cell_type": "markdown",
   "metadata": {},
   "source": [
    "Podemos observar un ejemplo grafico programado del comportamiento de la función de densidad de probabilidad. Pondemos notar que a mayor numero de simulación vemos como cada vez la distribución de tu variable es cada vez más suave y puedes intuir mejor como es la forma de la distribución y ver como es capaz de ver un contorno mucho más fino. "
   ]
  },
  {
   "cell_type": "markdown",
   "metadata": {},
   "source": [
    "### Relaciones con otras variables aleatorias\n",
    "\n",
    "Si n tiende a infinito y p es tal que el producto entre ambos parámetros tiende a $\\lambda$, entonces la distribución de la variable aleatoria binomial tiende a una distribución de Poisson de parámetro $\\lambda$.\n",
    "\n",
    "Por último, se cumple que cuando $p =0.5$ y n es muy grande (usualmente se exige que $n\\geq 30$) la distribución binomial puede aproximarse mediante la distribución normal, con parámetros $\\mu=np,\\sigma^2=np(1-p)$."
   ]
  },
  {
   "cell_type": "code",
   "execution_count": 13,
   "metadata": {},
   "outputs": [
    {
     "data": {
      "image/png": "[encoded data removed]",
      "text/plain": [
       "<Figure size 720x360 with 2 Axes>"
      ]
     },
     "metadata": {
      "needs_background": "light"
     },
     "output_type": "display_data"
    }
   ],
   "source": [
    "p = .5; n = 30\n",
    "mu = n*p; sigma = np.sqrt(n*p*(1-p))\n",
    "\n",
    "# Usando nuetra función creada\n",
    "Bi = proba_binomial(n,p,n)\n",
    "plt.figure(1,figsize=[10,5])\n",
    "plt.subplot(121)\n",
    "plt.plot(Bi,'o')\n",
    "plt.title('Distribución binomial n=%i,p=%0.2f'%(n,p))\n",
    "\n",
    "# Usando la función de la librería scipy para graficar la normal\n",
    "x = np.arange(0,n)\n",
    "Bi_norm = st.norm.pdf(x,loc=mu,scale=sigma)\n",
    "plt.subplot(122)\n",
    "plt.plot(Bi_norm,'o')\n",
    "plt.title('Distribución~normal(np,np(1-p))')\n",
    "plt.show()"
   ]
  },
  {
   "cell_type": "markdown",
   "metadata": {},
   "source": [
    "Bibliografias:\n",
    "\n",
    "https://conceptosclaros.com/para-que-sirve-la-funcion-densidad-probabilidad/\n",
    "https://www.superprof.es/apuntes/escolar/matematicas/probabilidades/distribucion-binomial/funcion-de-probabilidad-de-la-distribucion-binomial.html\n",
    "https://economipedia.com/definiciones/distribucion-binomial.html\n"
   ]
  },
  {
   "cell_type": "code",
   "execution_count": null,
   "metadata": {},
   "outputs": [],
   "source": []
  }
 ],
 "metadata": {
  "kernelspec": {
   "display_name": "Python 3",
   "language": "python",
   "name": "python3"
  },
  "language_info": {
   "codemirror_mode": {
    "name": "ipython",
    "version": 3
   },
   "file_extension": ".py",
   "mimetype": "text/x-python",
   "name": "python",
   "nbconvert_exporter": "python",
   "pygments_lexer": "ipython3",
   "version": "3.7.4"
  }
 },
 "nbformat": 4,
 "nbformat_minor": 2
}
